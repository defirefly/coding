{
  "nbformat": 4,
  "nbformat_minor": 0,
  "metadata": {
    "colab": {
      "provenance": [],
      "authorship_tag": "ABX9TyN8a5jrGSmyTatEoENv3WEd",
      "include_colab_link": true
    },
    "kernelspec": {
      "name": "python3",
      "display_name": "Python 3"
    },
    "language_info": {
      "name": "python"
    }
  },
  "cells": [
    {
      "cell_type": "markdown",
      "metadata": {
        "id": "view-in-github",
        "colab_type": "text"
      },
      "source": [
        "<a href=\"https://colab.research.google.com/github/defirefly/coding/blob/main/Copy_of_Untitled1.ipynb\" target=\"_parent\"><img src=\"https://colab.research.google.com/assets/colab-badge.svg\" alt=\"Open In Colab\"/></a>"
      ]
    },
    {
      "cell_type": "code",
      "execution_count": null,
      "metadata": {
        "id": "AbWutNzxrH4j"
      },
      "outputs": [],
      "source": [
        "def nanduuu (): \n",
        "  print(\"wish you a very happy birthday\")"
      ]
    },
    {
      "cell_type": "code",
      "source": [
        "nanduuu()"
      ],
      "metadata": {
        "colab": {
          "base_uri": "https://localhost:8080/"
        },
        "id": "eqr8gS5-tTxK",
        "outputId": "6413a097-0630-4452-f0f5-6ae4a9c254ab"
      },
      "execution_count": null,
      "outputs": [
        {
          "output_type": "stream",
          "name": "stdout",
          "text": [
            "wish you a very happy birthday\n"
          ]
        }
      ]
    },
    {
      "cell_type": "code",
      "source": [
        "def varsha(x,y):\n",
        "  z=x+y\n",
        "  print(\"result = \",z)"
      ],
      "metadata": {
        "id": "HllOWd2DtsPW"
      },
      "execution_count": null,
      "outputs": []
    },
    {
      "cell_type": "code",
      "source": [
        "varsha(2,4)"
      ],
      "metadata": {
        "colab": {
          "base_uri": "https://localhost:8080/"
        },
        "id": "9HqkJ4WgvJoN",
        "outputId": "03c07a1b-0f59-4f14-c2e5-f10d03fb41ba"
      },
      "execution_count": null,
      "outputs": [
        {
          "output_type": "stream",
          "name": "stdout",
          "text": [
            "result =  6\n"
          ]
        }
      ]
    },
    {
      "cell_type": "code",
      "source": [
        "def amritha(salary):\n",
        "  if salary<250000:\n",
        "    print(\"no tax\")\n",
        "  if salary>250000:\n",
        "   print(\"tax\")"
      ],
      "metadata": {
        "id": "VKBVuOoQx7kn"
      },
      "execution_count": null,
      "outputs": []
    },
    {
      "cell_type": "code",
      "source": [
        "salary=int(input(\"enter a salary\"))\n",
        "amritha(x)"
      ],
      "metadata": {
        "colab": {
          "base_uri": "https://localhost:8080/",
          "height": 200
        },
        "id": "hDsgvZHYzHVF",
        "outputId": "c071db98-f97e-479c-9d07-3720696b978c"
      },
      "execution_count": null,
      "outputs": [
        {
          "name": "stdout",
          "output_type": "stream",
          "text": [
            "enter a salary150000\n"
          ]
        },
        {
          "output_type": "error",
          "ename": "NameError",
          "evalue": "ignored",
          "traceback": [
            "\u001b[0;31m---------------------------------------------------------------------------\u001b[0m",
            "\u001b[0;31mNameError\u001b[0m                                 Traceback (most recent call last)",
            "\u001b[0;32m<ipython-input-4-931a29623dca>\u001b[0m in \u001b[0;36m<module>\u001b[0;34m\u001b[0m\n\u001b[1;32m      1\u001b[0m \u001b[0msalary\u001b[0m\u001b[0;34m=\u001b[0m\u001b[0mint\u001b[0m\u001b[0;34m(\u001b[0m\u001b[0minput\u001b[0m\u001b[0;34m(\u001b[0m\u001b[0;34m\"enter a salary\"\u001b[0m\u001b[0;34m)\u001b[0m\u001b[0;34m)\u001b[0m\u001b[0;34m\u001b[0m\u001b[0;34m\u001b[0m\u001b[0m\n\u001b[0;32m----> 2\u001b[0;31m \u001b[0mamritha\u001b[0m\u001b[0;34m(\u001b[0m\u001b[0mx\u001b[0m\u001b[0;34m)\u001b[0m\u001b[0;34m\u001b[0m\u001b[0;34m\u001b[0m\u001b[0m\n\u001b[0m",
            "\u001b[0;31mNameError\u001b[0m: name 'amritha' is not defined"
          ]
        }
      ]
    },
    {
      "cell_type": "code",
      "source": [
        "def add(x,y):\n",
        "   print (x+y)\n",
        "def sub(x,y):\n",
        "  print(x-y)\n",
        "def mul(x,y)\n",
        "  print(x*y)\n",
        "def div(x,y)\n",
        "  print(x/y)"
      ],
      "metadata": {
        "id": "onZ5yzflzXvb",
        "colab": {
          "base_uri": "https://localhost:8080/",
          "height": 130
        },
        "outputId": "7171666f-5284-48a9-d149-9e8a67e57f9c"
      },
      "execution_count": null,
      "outputs": [
        {
          "output_type": "error",
          "ename": "SyntaxError",
          "evalue": "ignored",
          "traceback": [
            "\u001b[0;36m  File \u001b[0;32m\"<ipython-input-6-9a2ccc98d8be>\"\u001b[0;36m, line \u001b[0;32m5\u001b[0m\n\u001b[0;31m    def mul(x,y)\u001b[0m\n\u001b[0m                ^\u001b[0m\n\u001b[0;31mSyntaxError\u001b[0m\u001b[0;31m:\u001b[0m invalid syntax\n"
          ]
        }
      ]
    },
    {
      "cell_type": "code",
      "source": [],
      "metadata": {
        "id": "xN8mZukR-GOb"
      },
      "execution_count": null,
      "outputs": []
    }
  ]
}
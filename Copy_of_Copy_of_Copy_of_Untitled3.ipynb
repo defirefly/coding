{
  "nbformat": 4,
  "nbformat_minor": 0,
  "metadata": {
    "colab": {
      "provenance": [],
      "authorship_tag": "ABX9TyN+dLR9gcObk9jVISzS0Ua6",
      "include_colab_link": true
    },
    "kernelspec": {
      "name": "python3",
      "display_name": "Python 3"
    },
    "language_info": {
      "name": "python"
    }
  },
  "cells": [
    {
      "cell_type": "markdown",
      "metadata": {
        "id": "view-in-github",
        "colab_type": "text"
      },
      "source": [
        "<a href=\"https://colab.research.google.com/github/defirefly/coding/blob/main/Copy_of_Copy_of_Copy_of_Untitled3.ipynb\" target=\"_parent\"><img src=\"https://colab.research.google.com/assets/colab-badge.svg\" alt=\"Open In Colab\"/></a>"
      ]
    },
    {
      "cell_type": "code",
      "execution_count": null,
      "metadata": {
        "colab": {
          "base_uri": "https://localhost:8080/"
        },
        "id": "BolrjtF9ofa0",
        "outputId": "182cdc55-2926-4be2-ef11-de5d497ca8ff"
      },
      "outputs": [
        {
          "output_type": "stream",
          "name": "stdout",
          "text": [
            "enter the passengers travel sourcekochi\n",
            "enter the travel destinationdelhi\n",
            "enter the number of passengers2\n",
            "kochi\n",
            "delhi\n",
            "2\n"
          ]
        }
      ],
      "source": [
        "x=input(\"enter the passengers travel source\")\n",
        "y=input(\"enter the travel destination\")\n",
        "z=input(\"enter the number of passengers\")\n",
        "print(x)\n",
        "print(y)\n",
        "print(z)"
      ]
    },
    {
      "cell_type": "code",
      "source": [
        "x=input(\"enter the total ticket fare\")\n",
        "y=input(\"enter the number of persons\")\n",
        "z=input(\"enter th ticket fare per person\")\n",
        "print(x)\n",
        "print(y)\n",
        "print(z)"
      ],
      "metadata": {
        "colab": {
          "base_uri": "https://localhost:8080/"
        },
        "id": "FlQrlI7Hptup",
        "outputId": "17164ed3-9c30-4efd-b10d-3cb833c07977"
      },
      "execution_count": null,
      "outputs": [
        {
          "output_type": "stream",
          "name": "stdout",
          "text": [
            "enter the total ticket fare100\n",
            "enter the number of persons2\n",
            "enter th ticket fare per person50\n",
            "100\n",
            "2\n",
            "50\n"
          ]
        }
      ]
    },
    {
      "cell_type": "code",
      "source": [
        "x=input(\"enter the passengers name\")\n",
        "y=input(\"enter the ticket fare\")\n",
        "print(\"passengers nanme is\",x,\"fare ticket\",y)"
      ],
      "metadata": {
        "colab": {
          "base_uri": "https://localhost:8080/"
        },
        "id": "ZL1Oa0nrrbpS",
        "outputId": "6431c8ed-7ef3-4e93-b78e-e28effc0348e"
      },
      "execution_count": null,
      "outputs": [
        {
          "output_type": "stream",
          "name": "stdout",
          "text": [
            "enter the passengers namevarsha\n",
            "enter the ticket fare50\n",
            "passengers nanme is varsha fare ticket 50\n"
          ]
        }
      ]
    },
    {
      "cell_type": "code",
      "source": [
        "x=int(input(\"total ticket fare\"))\n",
        "if x>10000:\n",
        "  print(\"you are eligible for disount\")\n",
        "if x<10000:\n",
        "  print(\"you are not eligible for discount\")"
      ],
      "metadata": {
        "colab": {
          "base_uri": "https://localhost:8080/"
        },
        "id": "eoTLH5nQsoIw",
        "outputId": "b9d16bab-9312-477e-9597-7d1a6da047d0"
      },
      "execution_count": null,
      "outputs": [
        {
          "output_type": "stream",
          "name": "stdout",
          "text": [
            "total ticket fare15000\n",
            "you are eligible for disount\n"
          ]
        }
      ]
    },
    {
      "cell_type": "code",
      "source": [
        "x=int(input(\"enter the total ticket fare\"))\n",
        "if x>15000:\n",
        "  print(\"eligible for 20% discount\")\n",
        "else:\n",
        "  print(\"not eligible for 20% discount\")\n"
      ],
      "metadata": {
        "colab": {
          "base_uri": "https://localhost:8080/"
        },
        "id": "tpgI5zKrvkuu",
        "outputId": "506f7dc3-303e-4e6b-f004-2c2de0efc779"
      },
      "execution_count": null,
      "outputs": [
        {
          "output_type": "stream",
          "name": "stdout",
          "text": [
            "enter the total ticket fare20000\n",
            "eligible for 20% discount\n"
          ]
        }
      ]
    },
    {
      "cell_type": "code",
      "source": [
        "x=int(input(\"enter the discounted fare\"))\n",
        "if x>15000:\n",
        "  print(\"eligible for 20% discount\")\n",
        "elif x>10000:\n",
        "  print(\"eligible for 10% discount\")\n",
        "else:\n",
        "  print(\"eligible for 5% disount \")"
      ],
      "metadata": {
        "colab": {
          "base_uri": "https://localhost:8080/"
        },
        "id": "KVaWRmS-xs3a",
        "outputId": "24d8fc6f-4896-48a5-dd14-9d0657f59049"
      },
      "execution_count": null,
      "outputs": [
        {
          "output_type": "stream",
          "name": "stdout",
          "text": [
            "enter the discounted fare20000\n",
            "eligible for 20% discount\n"
          ]
        }
      ]
    },
    {
      "cell_type": "code",
      "source": [
        "x=int(input(\"enter the number\"))\n",
        "if x>0:\n",
        "  print(\"posetive\")\n",
        "elif x<0:\n",
        "  print(\"negative\")\n",
        "else:\n",
        "  print(\"zero\")\n"
      ],
      "metadata": {
        "id": "0DzLyHCJzXEH",
        "colab": {
          "base_uri": "https://localhost:8080/"
        },
        "outputId": "1df72056-ba5c-447b-a272-42f69fbbea17"
      },
      "execution_count": null,
      "outputs": [
        {
          "output_type": "stream",
          "name": "stdout",
          "text": [
            "enter the number24\n",
            "posetive\n"
          ]
        }
      ]
    },
    {
      "cell_type": "code",
      "source": [
        "x=int(input(\"ente the age\"))\n",
        "if x>=18:\n",
        "  print(\"adult\")\n",
        "elif x>13 and x<18:\n",
        "  print(\"teenager\")\n",
        "elif x>=6 and x<=12:\n",
        "  print(\"kid\")\n",
        "elif x>=2 and x<6:\n",
        "  print(\"toddler\")\n",
        "else:\n",
        "  print(\"infant\")"
      ],
      "metadata": {
        "colab": {
          "base_uri": "https://localhost:8080/"
        },
        "id": "Dy8LJoko4bzG",
        "outputId": "a22e1a81-c790-439e-f914-d8916aea9098"
      },
      "execution_count": null,
      "outputs": [
        {
          "output_type": "stream",
          "name": "stdout",
          "text": [
            "ente the age17\n",
            "teenager\n"
          ]
        }
      ]
    },
    {
      "cell_type": "code",
      "source": [
        "x=int(input(\"enter starting value\")\n",
        "y=int(input(\"enter ending value\"))"
      ],
      "metadata": {
        "id": "FV-1nnzp6UXO"
      },
      "execution_count": null,
      "outputs": []
    }
  ]
}
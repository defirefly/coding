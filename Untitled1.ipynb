{
  "nbformat": 4,
  "nbformat_minor": 0,
  "metadata": {
    "colab": {
      "provenance": [],
      "authorship_tag": "ABX9TyOzJsrmRNsMtpG2TpQYZDR4",
      "include_colab_link": true
    },
    "kernelspec": {
      "name": "python3",
      "display_name": "Python 3"
    },
    "language_info": {
      "name": "python"
    }
  },
  "cells": [
    {
      "cell_type": "markdown",
      "metadata": {
        "id": "view-in-github",
        "colab_type": "text"
      },
      "source": [
        "<a href=\"https://colab.research.google.com/github/defirefly/coding/blob/main/Untitled1.ipynb\" target=\"_parent\"><img src=\"https://colab.research.google.com/assets/colab-badge.svg\" alt=\"Open In Colab\"/></a>"
      ]
    },
    {
      "cell_type": "code",
      "execution_count": null,
      "metadata": {
        "id": "AbWutNzxrH4j"
      },
      "outputs": [],
      "source": [
        "def nanduuu (): \n",
        "  print(\"wish you a very happy birthday\")"
      ]
    },
    {
      "cell_type": "code",
      "source": [
        "nanduuu()"
      ],
      "metadata": {
        "colab": {
          "base_uri": "https://localhost:8080/"
        },
        "id": "eqr8gS5-tTxK",
        "outputId": "6413a097-0630-4452-f0f5-6ae4a9c254ab"
      },
      "execution_count": null,
      "outputs": [
        {
          "output_type": "stream",
          "name": "stdout",
          "text": [
            "wish you a very happy birthday\n"
          ]
        }
      ]
    },
    {
      "cell_type": "code",
      "source": [
        "def varsha(x,y):\n",
        "  z=x+y\n",
        "  print(\"result = \",z)"
      ],
      "metadata": {
        "id": "HllOWd2DtsPW"
      },
      "execution_count": null,
      "outputs": []
    },
    {
      "cell_type": "code",
      "source": [
        "varsha(2,4)"
      ],
      "metadata": {
        "colab": {
          "base_uri": "https://localhost:8080/"
        },
        "id": "9HqkJ4WgvJoN",
        "outputId": "03c07a1b-0f59-4f14-c2e5-f10d03fb41ba"
      },
      "execution_count": null,
      "outputs": [
        {
          "output_type": "stream",
          "name": "stdout",
          "text": [
            "result =  6\n"
          ]
        }
      ]
    },
    {
      "cell_type": "code",
      "source": [
        "def amritha(salary):\n",
        "  if salary<250000:\n",
        "    print(\"no tax\")\n",
        "  if salary>250000:\n",
        "   print(\"tax\")"
      ],
      "metadata": {
        "id": "VKBVuOoQx7kn"
      },
      "execution_count": null,
      "outputs": []
    },
    {
      "cell_type": "code",
      "source": [
        "salary=int(input(\"enter a salary\"))\n",
        "amritha(x)"
      ],
      "metadata": {
        "colab": {
          "base_uri": "https://localhost:8080/"
        },
        "id": "hDsgvZHYzHVF",
        "outputId": "0c0942d4-e822-4c7f-b8a7-1c04400bc60c"
      },
      "execution_count": null,
      "outputs": [
        {
          "output_type": "stream",
          "name": "stdout",
          "text": [
            "enter a salary200000\n",
            "no tax\n"
          ]
        }
      ]
    },
    {
      "cell_type": "code",
      "source": [
        "x=int(input(\"enter a number\"))\n",
        "amritha(50)"
      ],
      "metadata": {
        "colab": {
          "base_uri": "https://localhost:8080/"
        },
        "id": "onZ5yzflzXvb",
        "outputId": "4725af44-fb50-42ae-c283-8719dacb038c"
      },
      "execution_count": null,
      "outputs": [
        {
          "output_type": "stream",
          "name": "stdout",
          "text": [
            "enter a number45\n",
            "no tax\n"
          ]
        }
      ]
    },
    {
      "cell_type": "code",
      "source": [
        "def amritha():\n",
        "k=0\n",
        "for a in range(x):\n",
        "  k=k+a\n",
        "  x=int(input(\"enter a number\"))\n",
        "  print(x)"
      ],
      "metadata": {
        "colab": {
          "base_uri": "https://localhost:8080/",
          "height": 130
        },
        "id": "glRVuB2k3tfN",
        "outputId": "839acaa7-541b-43ad-d4cb-97de12d79a97"
      },
      "execution_count": null,
      "outputs": [
        {
          "output_type": "error",
          "ename": "IndentationError",
          "evalue": "ignored",
          "traceback": [
            "\u001b[0;36m  File \u001b[0;32m\"<ipython-input-19-45bf6096e072>\"\u001b[0;36m, line \u001b[0;32m2\u001b[0m\n\u001b[0;31m    k=0\u001b[0m\n\u001b[0m    ^\u001b[0m\n\u001b[0;31mIndentationError\u001b[0m\u001b[0;31m:\u001b[0m expected an indented block\n"
          ]
        }
      ]
    },
    {
      "cell_type": "code",
      "source": [
        "\\"
      ],
      "metadata": {
        "id": "XdaQ3Ik45KUV"
      },
      "execution_count": null,
      "outputs": []
    }
  ]
}
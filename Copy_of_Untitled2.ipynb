{
  "nbformat": 4,
  "nbformat_minor": 0,
  "metadata": {
    "colab": {
      "provenance": [],
      "authorship_tag": "ABX9TyNdJZi3QTmd/xfNK6aiaCuO",
      "include_colab_link": true
    },
    "kernelspec": {
      "name": "python3",
      "display_name": "Python 3"
    },
    "language_info": {
      "name": "python"
    }
  },
  "cells": [
    {
      "cell_type": "markdown",
      "metadata": {
        "id": "view-in-github",
        "colab_type": "text"
      },
      "source": [
        "<a href=\"https://colab.research.google.com/github/defirefly/coding/blob/main/Copy_of_Untitled2.ipynb\" target=\"_parent\"><img src=\"https://colab.research.google.com/assets/colab-badge.svg\" alt=\"Open In Colab\"/></a>"
      ]
    },
    {
      "cell_type": "code",
      "execution_count": null,
      "metadata": {
        "colab": {
          "base_uri": "https://localhost:8080/"
        },
        "id": "VhB-ev_VfZRE",
        "outputId": "f9a7c2b7-d4e1-4d7d-8be0-548ba1cc02e6"
      },
      "outputs": [
        {
          "output_type": "stream",
          "name": "stdout",
          "text": [
            "Enter the namevarsha\n",
            "varsha\n"
          ]
        }
      ],
      "source": [
        "name =input(\"Enter the name\")\n",
        "print(name)"
      ]
    },
    {
      "cell_type": "code",
      "source": [
        "\n",
        "x=int(input(\"enter the first mark\"))\n",
        "y=int(input(\"enter the second mark\"))\n",
        "if x>y:\n",
        "  print(x, \"is greater\")\n",
        "else:\n",
        "  print(y,\" is greater\")"
      ],
      "metadata": {
        "colab": {
          "base_uri": "https://localhost:8080/"
        },
        "id": "jMeXSOboiNrQ",
        "outputId": "d1ef68fc-101e-443c-b147-040da17246fd"
      },
      "execution_count": null,
      "outputs": [
        {
          "output_type": "stream",
          "name": "stdout",
          "text": [
            "enter the first mark20\n",
            "enter the second mark50\n",
            "50  is greater\n"
          ]
        }
      ]
    },
    {
      "cell_type": "code",
      "source": [
        "n1=int(input(\"enter the first number\"))\n",
        "n2=int(input(\"enter the second number\"))\n",
        "n3=int(input(\"enter the third number\" ))\n",
        "if n1>n2 and n1>n3:\n",
        "  print(n1,\"is greatest\")\n",
        "if n2>n3 and n2>n3:\n",
        "  print(n2,\"is greatest\")\n",
        "else:\n",
        "  print(n3,\"is largest\")"
      ],
      "metadata": {
        "colab": {
          "base_uri": "https://localhost:8080/"
        },
        "id": "NoR12833jZg6",
        "outputId": "c48fc2eb-d297-4559-bd9b-84b39bc4027e"
      },
      "execution_count": null,
      "outputs": [
        {
          "output_type": "stream",
          "name": "stdout",
          "text": [
            "enter the first number34\n",
            "enter the second number18\n",
            "enter the third number30\n",
            "34 is greatest\n",
            "30 is largest\n"
          ]
        }
      ]
    },
    {
      "cell_type": "code",
      "source": [
        "num1=int(input())\n",
        "if num1%2 ==0:\n",
        "  print(\"its even\")\n",
        "else:\n",
        "  print(\"odd\")"
      ],
      "metadata": {
        "colab": {
          "base_uri": "https://localhost:8080/"
        },
        "id": "GcKohBfLx_Ki",
        "outputId": "db49d10b-6f6e-49d5-f4aa-ffa565410242"
      },
      "execution_count": null,
      "outputs": [
        {
          "output_type": "stream",
          "name": "stdout",
          "text": [
            "34\n",
            "its even\n"
          ]
        }
      ]
    },
    {
      "cell_type": "code",
      "source": [
        "for i in range(1,11):\n",
        "  print(i)"
      ],
      "metadata": {
        "colab": {
          "base_uri": "https://localhost:8080/"
        },
        "id": "0Arxqpd3yW1J",
        "outputId": "abbbb5fa-40c9-4dee-f055-283acc0d25e4"
      },
      "execution_count": null,
      "outputs": [
        {
          "output_type": "stream",
          "name": "stdout",
          "text": [
            "1\n",
            "2\n",
            "3\n",
            "4\n",
            "5\n",
            "6\n",
            "7\n",
            "8\n",
            "9\n",
            "10\n"
          ]
        }
      ]
    },
    {
      "cell_type": "code",
      "source": [],
      "metadata": {
        "id": "nTQTncVH1PNT"
      },
      "execution_count": null,
      "outputs": []
    }
  ]
}
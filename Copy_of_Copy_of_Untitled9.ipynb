{
  "nbformat": 4,
  "nbformat_minor": 0,
  "metadata": {
    "colab": {
      "provenance": [],
      "authorship_tag": "ABX9TyMH4hW7v3kIFnm6lVot/sjB",
      "include_colab_link": true
    },
    "kernelspec": {
      "name": "python3",
      "display_name": "Python 3"
    },
    "language_info": {
      "name": "python"
    }
  },
  "cells": [
    {
      "cell_type": "markdown",
      "metadata": {
        "id": "view-in-github",
        "colab_type": "text"
      },
      "source": [
        "<a href=\"https://colab.research.google.com/github/defirefly/coding/blob/main/Copy_of_Copy_of_Untitled9.ipynb\" target=\"_parent\"><img src=\"https://colab.research.google.com/assets/colab-badge.svg\" alt=\"Open In Colab\"/></a>"
      ]
    },
    {
      "cell_type": "code",
      "execution_count": null,
      "metadata": {
        "colab": {
          "base_uri": "https://localhost:8080/"
        },
        "id": "MvMNUhh60_ea",
        "outputId": "3a283a1e-59d1-4435-b153-6ff713522990"
      },
      "outputs": [
        {
          "output_type": "execute_result",
          "data": {
            "text/plain": [
              "int"
            ]
          },
          "metadata": {},
          "execution_count": 1
        }
      ],
      "source": [
        "a=10\n",
        "type(a)"
      ]
    },
    {
      "cell_type": "code",
      "source": [
        "b=10.5\n",
        "type(b)"
      ],
      "metadata": {
        "colab": {
          "base_uri": "https://localhost:8080/"
        },
        "id": "z30XjpPD3Jqh",
        "outputId": "6f84fd55-00cc-432b-dcd6-913b79f0504d"
      },
      "execution_count": null,
      "outputs": [
        {
          "output_type": "execute_result",
          "data": {
            "text/plain": [
              "float"
            ]
          },
          "metadata": {},
          "execution_count": 3
        }
      ]
    },
    {
      "cell_type": "code",
      "source": [
        "\n",
        "type(10+10.5)"
      ],
      "metadata": {
        "colab": {
          "base_uri": "https://localhost:8080/"
        },
        "id": "zFUWyjhi3VyW",
        "outputId": "77c05208-f8f9-416b-df12-c8fcfd634f43"
      },
      "execution_count": null,
      "outputs": [
        {
          "output_type": "execute_result",
          "data": {
            "text/plain": [
              "float"
            ]
          },
          "metadata": {},
          "execution_count": 5
        }
      ]
    },
    {
      "cell_type": "code",
      "source": [
        "c=10+5j\n",
        "type(c)"
      ],
      "metadata": {
        "colab": {
          "base_uri": "https://localhost:8080/"
        },
        "id": "UJp4pfOW3niZ",
        "outputId": "a1a32f56-1317-4df1-ad33-eae5021caad3"
      },
      "execution_count": null,
      "outputs": [
        {
          "output_type": "execute_result",
          "data": {
            "text/plain": [
              "complex"
            ]
          },
          "metadata": {},
          "execution_count": 6
        }
      ]
    },
    {
      "cell_type": "code",
      "source": [
        "a=\"2\"\n",
        "type(a)"
      ],
      "metadata": {
        "colab": {
          "base_uri": "https://localhost:8080/"
        },
        "id": "eRhCM0OA4IGY",
        "outputId": "5ae06afb-652d-4c03-8f98-ba59157967ff"
      },
      "execution_count": null,
      "outputs": [
        {
          "output_type": "execute_result",
          "data": {
            "text/plain": [
              "str"
            ]
          },
          "metadata": {},
          "execution_count": 9
        }
      ]
    },
    {
      "cell_type": "code",
      "source": [
        "friends=[\"annlitta\",\"sinu\",\"amritha\",\"sidarth\"]\n",
        "type(friends)\n",
        "print(friends[0])\n",
        "print(friends[1])\n",
        "print(friends[2])\n",
        "print(friends[3])"
      ],
      "metadata": {
        "colab": {
          "base_uri": "https://localhost:8080/"
        },
        "id": "bIwDSNWB4Tg4",
        "outputId": "409a4461-2709-4b1f-bedf-386944837a6e"
      },
      "execution_count": null,
      "outputs": [
        {
          "output_type": "stream",
          "name": "stdout",
          "text": [
            "annlitta\n",
            "sinu\n",
            "amritha\n",
            "sidarth\n"
          ]
        }
      ]
    },
    {
      "cell_type": "code",
      "source": [
        "friends=[\"annlitta\",\"sinu\",\"amritha\",\"sidarth\"]\n",
        "friends.pop()"
      ],
      "metadata": {
        "colab": {
          "base_uri": "https://localhost:8080/",
          "height": 35
        },
        "id": "zg54ySKm5egY",
        "outputId": "19d2287e-6aba-4e83-f322-0c177c6a8bbf"
      },
      "execution_count": null,
      "outputs": [
        {
          "output_type": "execute_result",
          "data": {
            "text/plain": [
              "'sidarth'"
            ],
            "application/vnd.google.colaboratory.intrinsic+json": {
              "type": "string"
            }
          },
          "metadata": {},
          "execution_count": 28
        }
      ]
    },
    {
      "cell_type": "code",
      "source": [
        "print(friends)"
      ],
      "metadata": {
        "colab": {
          "base_uri": "https://localhost:8080/"
        },
        "id": "zSazxEUt_IAC",
        "outputId": "c2030ee4-0d26-4198-fc6c-03db40b69841"
      },
      "execution_count": null,
      "outputs": [
        {
          "output_type": "stream",
          "name": "stdout",
          "text": [
            "['annlitta', 'sinu', 'amritha']\n"
          ]
        }
      ]
    },
    {
      "cell_type": "code",
      "source": [
        "friends=[\"annlitta\",\"sinu\",\"amritha\",\"sidarth\"]\n",
        "friends.pop(2)"
      ],
      "metadata": {
        "colab": {
          "base_uri": "https://localhost:8080/",
          "height": 35
        },
        "id": "QsbGJLVT60mn",
        "outputId": "7a6e360d-0c04-40e7-ff85-fb92166c2a89"
      },
      "execution_count": null,
      "outputs": [
        {
          "output_type": "execute_result",
          "data": {
            "text/plain": [
              "'amritha'"
            ],
            "application/vnd.google.colaboratory.intrinsic+json": {
              "type": "string"
            }
          },
          "metadata": {},
          "execution_count": 29
        }
      ]
    },
    {
      "cell_type": "code",
      "source": [
        "print(friends)"
      ],
      "metadata": {
        "colab": {
          "base_uri": "https://localhost:8080/"
        },
        "id": "qmUDU0pv-Lqc",
        "outputId": "4297eede-df5b-4a92-dccf-21497ab240d0"
      },
      "execution_count": null,
      "outputs": [
        {
          "output_type": "stream",
          "name": "stdout",
          "text": [
            "['annlitta', 'sinu', 'sidarth']\n"
          ]
        }
      ]
    },
    {
      "cell_type": "code",
      "source": [
        "friends.append(\"amritha\")"
      ],
      "metadata": {
        "id": "bkesg9YJ_QmU"
      },
      "execution_count": null,
      "outputs": []
    },
    {
      "cell_type": "code",
      "source": [
        "print(friends)"
      ],
      "metadata": {
        "colab": {
          "base_uri": "https://localhost:8080/"
        },
        "id": "4Wt_SBLv_U0W",
        "outputId": "cb12e9c4-14f9-4d43-87a3-251d19013c89"
      },
      "execution_count": null,
      "outputs": [
        {
          "output_type": "stream",
          "name": "stdout",
          "text": [
            "['annlitta', 'sinu', 'sidarth', 'amritha']\n"
          ]
        }
      ]
    },
    {
      "cell_type": "code",
      "source": [
        "friends.sort()"
      ],
      "metadata": {
        "id": "dgiHgr8N_Wl-"
      },
      "execution_count": null,
      "outputs": []
    },
    {
      "cell_type": "code",
      "source": [
        "print(friends)"
      ],
      "metadata": {
        "colab": {
          "base_uri": "https://localhost:8080/"
        },
        "id": "G68KWG4o_Zp1",
        "outputId": "45c13fa9-fef8-4069-ecaf-d67895f407aa"
      },
      "execution_count": null,
      "outputs": [
        {
          "output_type": "stream",
          "name": "stdout",
          "text": [
            "['amritha', 'annlitta', 'sidarth', 'sinu']\n"
          ]
        }
      ]
    },
    {
      "cell_type": "code",
      "source": [
        "friends.reverse()"
      ],
      "metadata": {
        "id": "3N751kJu_bug"
      },
      "execution_count": null,
      "outputs": []
    },
    {
      "cell_type": "code",
      "source": [
        "print(friends)"
      ],
      "metadata": {
        "colab": {
          "base_uri": "https://localhost:8080/"
        },
        "id": "WI9RhI24_hUm",
        "outputId": "c9abcabf-68fe-4214-f644-7039885abba4"
      },
      "execution_count": null,
      "outputs": [
        {
          "output_type": "stream",
          "name": "stdout",
          "text": [
            "['sinu', 'sidarth', 'annlitta', 'amritha']\n"
          ]
        }
      ]
    },
    {
      "cell_type": "code",
      "source": [
        "friends.insert(0,\"sinu\")\n",
        "print(friends)"
      ],
      "metadata": {
        "colab": {
          "base_uri": "https://localhost:8080/"
        },
        "id": "Vmm3P46k_om2",
        "outputId": "9ab50318-9ead-4c3d-c6f1-e25ba8011603"
      },
      "execution_count": null,
      "outputs": [
        {
          "output_type": "stream",
          "name": "stdout",
          "text": [
            "['sinu', 'siya', 'siya', 'sinu', 'sinu', 'sidarth', 'annlitta', 'amritha']\n"
          ]
        }
      ]
    },
    {
      "cell_type": "code",
      "source": [
        "friends=[\"annlitta\",\"sinu\",\"amritha\",\"sidarth\"]\n",
        "friends[1]=\"liya\"\n",
        "print(friends)"
      ],
      "metadata": {
        "id": "BIvYQsNdAqSt",
        "colab": {
          "base_uri": "https://localhost:8080/"
        },
        "outputId": "1f05542e-85d5-4635-c4c4-e4cbb08973f6"
      },
      "execution_count": null,
      "outputs": [
        {
          "output_type": "stream",
          "name": "stdout",
          "text": [
            "['annlitta', 'liya', 'amritha', 'sidarth']\n"
          ]
        }
      ]
    },
    {
      "cell_type": "code",
      "source": [
        "tuple_items=(10,30,50,70,80,50.8)\n",
        "type(tuple_items)"
      ],
      "metadata": {
        "colab": {
          "base_uri": "https://localhost:8080/"
        },
        "id": "P9g4DN0NFEKH",
        "outputId": "f9a73965-f924-4363-9d20-a64a445a5549"
      },
      "execution_count": null,
      "outputs": [
        {
          "output_type": "execute_result",
          "data": {
            "text/plain": [
              "tuple"
            ]
          },
          "metadata": {},
          "execution_count": 4
        }
      ]
    },
    {
      "cell_type": "code",
      "source": [
        "marks=[10,20,20,30,40]\n",
        "set1=set(marks) \n",
        "print(set1)"
      ],
      "metadata": {
        "colab": {
          "base_uri": "https://localhost:8080/"
        },
        "id": "Rr5_C60ZF2fH",
        "outputId": "5996fd04-88f4-4a22-a9d7-cd83a441ed13"
      },
      "execution_count": 5,
      "outputs": [
        {
          "output_type": "stream",
          "name": "stdout",
          "text": [
            "{40, 10, 20, 30}\n"
          ]
        }
      ]
    },
    {
      "cell_type": "code",
      "source": [
        "h={1,2,3,3,4,7,15}"
      ],
      "metadata": {
        "id": "WqeqFlU3FZc3"
      },
      "execution_count": 6,
      "outputs": []
    },
    {
      "cell_type": "code",
      "source": [
        "type(h)"
      ],
      "metadata": {
        "id": "pUfiHcjhFbm1",
        "colab": {
          "base_uri": "https://localhost:8080/"
        },
        "outputId": "a361abf6-83ac-4e61-ace8-2d9598f61f07"
      },
      "execution_count": 8,
      "outputs": [
        {
          "output_type": "execute_result",
          "data": {
            "text/plain": [
              "set"
            ]
          },
          "metadata": {},
          "execution_count": 8
        }
      ]
    },
    {
      "cell_type": "code",
      "source": [
        "print(h)"
      ],
      "metadata": {
        "colab": {
          "base_uri": "https://localhost:8080/"
        },
        "id": "9QLSNhMcHhrp",
        "outputId": "38c26ea6-3d53-4f1a-c4aa-96162af7a03f"
      },
      "execution_count": 9,
      "outputs": [
        {
          "output_type": "stream",
          "name": "stdout",
          "text": [
            "{1, 2, 3, 4, 7, 15}\n"
          ]
        }
      ]
    },
    {
      "cell_type": "code",
      "source": [
        "dict={'name':'varsha','place':'cheruthuruthy'}\n",
        "type(dict)"
      ],
      "metadata": {
        "colab": {
          "base_uri": "https://localhost:8080/"
        },
        "id": "Uf6VR5RIHq7B",
        "outputId": "e031ea13-9da0-43ed-ddb8-1118557f571b"
      },
      "execution_count": 13,
      "outputs": [
        {
          "output_type": "execute_result",
          "data": {
            "text/plain": [
              "dict"
            ]
          },
          "metadata": {},
          "execution_count": 13
        }
      ]
    },
    {
      "cell_type": "code",
      "source": [
        "print(dict)"
      ],
      "metadata": {
        "colab": {
          "base_uri": "https://localhost:8080/"
        },
        "id": "IDhwSdI0IZ1n",
        "outputId": "4e76d5db-dd23-4c1e-cd33-3fb159401675"
      },
      "execution_count": 14,
      "outputs": [
        {
          "output_type": "stream",
          "name": "stdout",
          "text": [
            "{'name': 'varsha', 'place': 'cheruthuruthy'}\n"
          ]
        }
      ]
    },
    {
      "cell_type": "code",
      "source": [
        "def add(x,y):\n",
        "  return(x+y)\n",
        "add(2,3)"
      ],
      "metadata": {
        "colab": {
          "base_uri": "https://localhost:8080/"
        },
        "id": "scuPHqJIJaT_",
        "outputId": "b9f77413-8f00-45bb-b290-af9efe8ff9a3"
      },
      "execution_count": 23,
      "outputs": [
        {
          "output_type": "execute_result",
          "data": {
            "text/plain": [
              "5"
            ]
          },
          "metadata": {},
          "execution_count": 23
        }
      ]
    },
    {
      "cell_type": "code",
      "source": [
        "def mul(x,y,z):\n",
        "  return(x*y*z)\n",
        "mul(2,3,4)"
      ],
      "metadata": {
        "colab": {
          "base_uri": "https://localhost:8080/"
        },
        "id": "PX7u2aGDKQeD",
        "outputId": "a261ccd8-dc4f-485e-b200-8333a68e210c"
      },
      "execution_count": 25,
      "outputs": [
        {
          "output_type": "execute_result",
          "data": {
            "text/plain": [
              "24"
            ]
          },
          "metadata": {},
          "execution_count": 25
        }
      ]
    },
    {
      "cell_type": "code",
      "source": [],
      "metadata": {
        "id": "IzpgMpWxMXOd"
      },
      "execution_count": null,
      "outputs": []
    }
  ]
}
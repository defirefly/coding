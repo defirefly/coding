{
  "nbformat": 4,
  "nbformat_minor": 0,
  "metadata": {
    "colab": {
      "provenance": [],
      "authorship_tag": "ABX9TyPbt9kmZxjLThFEZPfuVT90",
      "include_colab_link": true
    },
    "kernelspec": {
      "name": "python3",
      "display_name": "Python 3"
    },
    "language_info": {
      "name": "python"
    }
  },
  "cells": [
    {
      "cell_type": "markdown",
      "metadata": {
        "id": "view-in-github",
        "colab_type": "text"
      },
      "source": [
        "<a href=\"https://colab.research.google.com/github/defirefly/coding/blob/main/Copy_of_Copy_of_Copy_of_Untitled6.ipynb\" target=\"_parent\"><img src=\"https://colab.research.google.com/assets/colab-badge.svg\" alt=\"Open In Colab\"/></a>"
      ]
    },
    {
      "cell_type": "code",
      "execution_count": null,
      "metadata": {
        "colab": {
          "base_uri": "https://localhost:8080/"
        },
        "id": "pQv0cjwBhhuL",
        "outputId": "d1b02615-c00a-413f-e7f7-16718b1d58ec"
      },
      "outputs": [
        {
          "output_type": "stream",
          "name": "stdout",
          "text": [
            "enter a number-10\n",
            "obsolute value of 10 is 10\n"
          ]
        }
      ],
      "source": [
        "num=int(input(\"enter a number\"))\n",
        "if(num>0):\n",
        "  print(\"obsolute value of,num,\"is\",num\")\n",
        "else:\n",
        "  num=num*(-1)\n",
        "  print(\"obsolute value of\",num,\"is\",num)"
      ]
    },
    {
      "cell_type": "code",
      "source": [
        "x=int(input(\"enter no of classes\"))\n",
        "y=int(input(\"enter the number of classes attended\"))\n",
        "z=y/x*100\n",
        "if z>=75:\n",
        "  print(\"u r allowed to write exam\")\n",
        "else:\n",
        "  print(\"u r not allowed to write exam\")"
      ],
      "metadata": {
        "id": "_i1njWt5nXN7",
        "colab": {
          "base_uri": "https://localhost:8080/"
        },
        "outputId": "1190ba14-f10f-4ba3-a5c7-cfae76a2600d"
      },
      "execution_count": null,
      "outputs": [
        {
          "output_type": "stream",
          "name": "stdout",
          "text": [
            "enter no of classes5\n",
            "enter the number of classes attended4\n",
            "u r allowed to write exam\n"
          ]
        }
      ]
    },
    {
      "cell_type": "code",
      "source": [
        "print(\"1.addition\")\n",
        "print(\"2.subtraction\")\n",
        "print(\"3.multiplication\")\n",
        "print(\"4.division\")\n",
        "print(\"5.modulus\")\n",
        "print(\"6.floor division\")\n",
        "print(\"7.exponent\")\n",
        "x=int(input(\"select a number\"))\n",
        "m1=int(input(\"enter a number\"))\n",
        "m2=int(input(\"enter a number\"))\n",
        "if x==1:\n",
        "  print(m1+m2)\n",
        "if x==2:\n",
        "  print(\"m1-m2\")\n",
        "if x==3:\n",
        "  print(\"m1*m2\")\n",
        "if x==4:\n",
        "  print(\"m1/m2\")\n",
        "if x==5:\n",
        "  print(\"m1%m2\")\n",
        "if x==6:\n",
        "  print(\"m1/m2\")\n",
        "if x==7:\n",
        "  print(\"m1**m2\")\n",
        "else:\n",
        "  print(\"thank you\")"
      ],
      "metadata": {
        "colab": {
          "base_uri": "https://localhost:8080/"
        },
        "id": "sXLd_N5mtEi7",
        "outputId": "c86c8db1-01fd-47c0-8771-68ea770a1671"
      },
      "execution_count": null,
      "outputs": [
        {
          "output_type": "stream",
          "name": "stdout",
          "text": [
            "1.addition\n",
            "2.subtraction\n",
            "3.multiplication\n",
            "4.division\n",
            "5.modulus\n",
            "6.floor division\n",
            "7.exponent\n",
            "select a number7\n",
            "enter a number8\n",
            "enter a number9\n",
            "m1**m2\n"
          ]
        }
      ]
    },
    {
      "cell_type": "code",
      "source": [
        "m1=int(input('enter marks of first subject'))\n",
        "m2=int(input('enter marks of second subject'))\n",
        "m3=int (input('enter the marks of third subject'))\n",
        "m4=int(input('enter marks of fourth subject'))\n",
        "m5=int(input('enter marks of fifth subject'))\n",
        "print('least marks:',mim(m1,m2,m3,m4,m5))\n",
        "print('maximum marks':,max(m1,m2,m3,m4,m5))"
      ],
      "metadata": {
        "id": "KDlp0_YlxnfL",
        "colab": {
          "base_uri": "https://localhost:8080/",
          "height": 130
        },
        "outputId": "f8fe5c1d-a56a-47bc-e8a6-2745fb45ccef"
      },
      "execution_count": null,
      "outputs": [
        {
          "output_type": "error",
          "ename": "SyntaxError",
          "evalue": "ignored",
          "traceback": [
            "\u001b[0;36m  File \u001b[0;32m\"<ipython-input-5-85244f308e38>\"\u001b[0;36m, line \u001b[0;32m7\u001b[0m\n\u001b[0;31m    print('maximum marks':,max(m1,m2,m3,m4,m5))\u001b[0m\n\u001b[0m                         ^\u001b[0m\n\u001b[0;31mSyntaxError\u001b[0m\u001b[0;31m:\u001b[0m invalid syntax\n"
          ]
        }
      ]
    },
    {
      "cell_type": "code",
      "source": [],
      "metadata": {
        "id": "aPB_ijeN5LST"
      },
      "execution_count": null,
      "outputs": []
    }
  ]
}
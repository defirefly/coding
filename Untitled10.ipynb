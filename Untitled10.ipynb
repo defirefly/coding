{
  "nbformat": 4,
  "nbformat_minor": 0,
  "metadata": {
    "colab": {
      "provenance": [],
      "authorship_tag": "ABX9TyMDVZ84dn/HkGjPOF+0vVHr",
      "include_colab_link": true
    },
    "kernelspec": {
      "name": "python3",
      "display_name": "Python 3"
    },
    "language_info": {
      "name": "python"
    }
  },
  "cells": [
    {
      "cell_type": "markdown",
      "metadata": {
        "id": "view-in-github",
        "colab_type": "text"
      },
      "source": [
        "<a href=\"https://colab.research.google.com/github/defirefly/coding/blob/main/Untitled10.ipynb\" target=\"_parent\"><img src=\"https://colab.research.google.com/assets/colab-badge.svg\" alt=\"Open In Colab\"/></a>"
      ]
    },
    {
      "cell_type": "code",
      "execution_count": 4,
      "metadata": {
        "colab": {
          "base_uri": "https://localhost:8080/"
        },
        "id": "m-pLoMJXtI9u",
        "outputId": "a44d94a3-1968-4d27-9acd-71e3d35c4943"
      },
      "outputs": [
        {
          "output_type": "stream",
          "name": "stdout",
          "text": [
            "fifa world cuo 2022\n"
          ]
        }
      ],
      "source": [
        "def foot_ball():\n",
        "  print(\"fifa world cuo 2022\")\n",
        "foot_ball()"
      ]
    },
    {
      "cell_type": "code",
      "source": [
        "def fun_name():\n",
        "  x=input(\"ENTER YOUR FIRST NAME\")\n",
        "  y=input(\"ENTER YOUR MIDDLE NAME\")\n",
        "  z=input(\"ENTER YOUR LAST NAME\")\n",
        "  print(x,y,z)\n",
        "fun_name()"
      ],
      "metadata": {
        "colab": {
          "base_uri": "https://localhost:8080/"
        },
        "id": "ZjCq4ax-to8S",
        "outputId": "16fdff44-cb17-4265-d264-da5920bf3ca1"
      },
      "execution_count": 12,
      "outputs": [
        {
          "output_type": "stream",
          "name": "stdout",
          "text": [
            "ENTER YOUR FIRST NAMEvarsha\n",
            "ENTER YOUR MIDDLE NAMEannlitta\n",
            "ENTER YOUR LAST NAMEsaho\n",
            "varsha annlitta saho\n"
          ]
        }
      ]
    },
    {
      "cell_type": "code",
      "source": [
        "def fun_name():\n",
        "  x=input(\"ENTER YOUR FIST NAME\")\n",
        "  y=input(\"ENTER YOUR MIDDLE NAME\")\n",
        "  z=input(\"ENTER YOUR LAST NAME\")\n",
        "  print(z,y,x)\n",
        "fun_name()"
      ],
      "metadata": {
        "colab": {
          "base_uri": "https://localhost:8080/"
        },
        "id": "SQbKEkYCwnE0",
        "outputId": "98fe8470-2414-40f5-fc92-ffe02cb098dd"
      },
      "execution_count": 17,
      "outputs": [
        {
          "output_type": "stream",
          "name": "stdout",
          "text": [
            "ENTER YOUR FIST NAMEvarsha\n",
            "ENTER YOUR MIDDLE NAMEsinu\n",
            "ENTER YOUR LAST NAMEannlitta\n",
            "annlitta sinu varsha\n"
          ]
        }
      ]
    },
    {
      "cell_type": "code",
      "source": [
        "def fun_name(country = \"norway\"):\n",
        " print(\"i am from \"+country)\n",
        "\n",
        "fun_name(\"sweden\")\n",
        "fun_name(\"India\")\n",
        "fun_name()\n",
        "fun_name(\"brazil\")\n"
      ],
      "metadata": {
        "colab": {
          "base_uri": "https://localhost:8080/"
        },
        "id": "j3G3RdUS07W-",
        "outputId": "48063f3d-cc0b-4f24-a286-c2f0783d58fe"
      },
      "execution_count": 21,
      "outputs": [
        {
          "output_type": "stream",
          "name": "stdout",
          "text": [
            "i am from sweden\n",
            "i am from India\n",
            "i am from norway\n",
            "i am from brazil\n"
          ]
        }
      ]
    },
    {
      "cell_type": "code",
      "source": [
        "def fun_name(x):\n",
        "  for y in x:\n",
        "    print(y)\n",
        "\n",
        "k=[\"vedya\",\"kaushi\",\"cutie\"]\n",
        "fun_name(k)"
      ],
      "metadata": {
        "colab": {
          "base_uri": "https://localhost:8080/"
        },
        "id": "jzKyw6y22re2",
        "outputId": "4915751b-d4e8-4bdf-d4e4-32975ec94a53"
      },
      "execution_count": 23,
      "outputs": [
        {
          "output_type": "stream",
          "name": "stdout",
          "text": [
            "vedya\n",
            "kaushi\n",
            "cutie\n"
          ]
        }
      ]
    },
    {
      "cell_type": "code",
      "source": [],
      "metadata": {
        "id": "B6ov6bVG7a42"
      },
      "execution_count": null,
      "outputs": []
    }
  ]
}
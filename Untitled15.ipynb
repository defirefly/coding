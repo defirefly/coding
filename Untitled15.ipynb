{
  "nbformat": 4,
  "nbformat_minor": 0,
  "metadata": {
    "colab": {
      "provenance": [],
      "authorship_tag": "ABX9TyPm52WzKMjMCkraMfz3fGkj",
      "include_colab_link": true
    },
    "kernelspec": {
      "name": "python3",
      "display_name": "Python 3"
    },
    "language_info": {
      "name": "python"
    }
  },
  "cells": [
    {
      "cell_type": "markdown",
      "metadata": {
        "id": "view-in-github",
        "colab_type": "text"
      },
      "source": [
        "<a href=\"https://colab.research.google.com/github/defirefly/coding/blob/main/Untitled15.ipynb\" target=\"_parent\"><img src=\"https://colab.research.google.com/assets/colab-badge.svg\" alt=\"Open In Colab\"/></a>"
      ]
    },
    {
      "cell_type": "code",
      "execution_count": 5,
      "metadata": {
        "colab": {
          "base_uri": "https://localhost:8080/"
        },
        "id": "zyLjt715HA2_",
        "outputId": "ec67243f-d008-4f84-9391-7ed4733f8d65"
      },
      "outputs": [
        {
          "output_type": "stream",
          "name": "stdout",
          "text": [
            "[[32 32 25]\n",
            " [35 35 45]\n",
            " [28 47 30]\n",
            " [45 29 48]]\n"
          ]
        }
      ],
      "source": [
        "import numpy as np\n",
        "randshaped = np.random.randint(20,50,(4,3))\n",
        "print(randshaped)"
      ]
    },
    {
      "cell_type": "code",
      "source": [],
      "metadata": {
        "id": "MKn9wOiCHkD7"
      },
      "execution_count": null,
      "outputs": []
    }
  ]
}